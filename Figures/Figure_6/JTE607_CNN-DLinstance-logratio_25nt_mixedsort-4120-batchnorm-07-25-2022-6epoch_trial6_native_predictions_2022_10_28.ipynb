{
 "cells": [
  {
   "cell_type": "code",
   "execution_count": 1,
   "id": "18cd7a13",
   "metadata": {},
   "outputs": [],
   "source": [
    "\"\"\"\n",
    "Using best performing model from 'JTE607_CNN-DLinstance-ratio_25nt_mixedsort-5percent.ipynb' on transcriptome list from\n",
    "Yongsheng. The list contains 26 nt from the transcriptome, but model handles 25 nt, so predictions are done on both the first 25\n",
    "nt and last 25 nt.\n",
    "\n",
    "\"\"\"\n",
    "\n",
    "import numpy as np\n",
    "import pickle\n",
    "import OSU\n",
    "\n",
    "import tensorflow as tf\n",
    "np.random.seed(1337)\n",
    "\n",
    "from tensorflow.keras.models import Sequential, load_model\n",
    "\n",
    "\n",
    "def one_hot_encode(sequences, max_seq_len=164, mask_val=-1, padding='left'):\n",
    "    # Dictionary returning one-hot encoding of nucleotides. \n",
    "    nuc_d = {'a':[1,0,0,0],\n",
    "             'c':[0,1,0,0],\n",
    "             'g':[0,0,1,0],\n",
    "             't':[0,0,0,1],\n",
    "             'n':[0,0,0,0],\n",
    "            'm':[mask_val,mask_val,mask_val,mask_val]}\n",
    "    \n",
    "    # Creat empty matrix\n",
    "    one_hot_seqs = np.ones([len(sequences), max_seq_len, 4])*mask_val\n",
    "    \n",
    "    # Iterate through sequences and one-hot encode\n",
    "    for i, seq in enumerate(sequences):\n",
    "        # Truncate\n",
    "        seq = seq[:max_seq_len].lower()\n",
    "        # Convert to array\n",
    "        one_hot_seq = np.array([nuc_d[x] for x in seq])\n",
    "        # Append to matrix\n",
    "        if padding=='left':\n",
    "            one_hot_seqs[i, :len(seq), :] = one_hot_seq\n",
    "        elif padding=='right':\n",
    "            one_hot_seqs[i, -len(seq):, :] = one_hot_seq\n",
    "        else:\n",
    "            ValueError(f'padding {padding} not recognized')\n",
    "            \n",
    "    return one_hot_seqs\n"
   ]
  },
  {
   "cell_type": "code",
   "execution_count": 2,
   "id": "ee25a75e",
   "metadata": {},
   "outputs": [],
   "source": [
    "\"\"\"\n",
    "Set paths\n",
    "\"\"\"\n",
    "transcriptome_26nt_file = \"/JTE-607/Analysis/CNN_predictions_native/sequences/2022_10_28/Gencode_only_26nt_shifted.fa\"\n",
    "predictions_output_dir = OSU.create_directory(\"/JTE-607/Analysis/CNN_predictions_native/CNN_25nt_logratio_mixedsort_4120_batchnorm-07_25_2022-6epoch_trial6/2022_10_28/\")\n",
    "\n",
    "models_dir = \"/JTE-607/Analysis/parsed_L3_input_RNA_clusterPASRandom_bbmerge_xloose/parsed_L3_cleaved_RNA_multimapping_mincov1_preload_bbmerge_xloose_H1shortN4indel/collapsed/models_25nt_logratio_mixedsort_4120_batchnorm-07_25_2022-6epoch_x10/\"\n"
   ]
  },
  {
   "cell_type": "code",
   "execution_count": 3,
   "id": "5a86f89a-afc1-4293-8d7b-2de7e03da9ca",
   "metadata": {},
   "outputs": [
    {
     "name": "stdout",
     "output_type": "stream",
     "text": [
      "[2022-10-28 22:32:46.447 ip-172-31-11-19.us-west-1.compute.internal:27352 INFO utils.py:27] RULE_JOB_STOP_SIGNAL_FILENAME: None\n",
      "[2022-10-28 22:32:46.469 ip-172-31-11-19.us-west-1.compute.internal:27352 INFO profiler_config_parser.py:111] Unable to find config at /opt/ml/input/config/profilerconfig.json. Profiler is disabled.\n"
     ]
    }
   ],
   "source": [
    "# Load best performing model of all data\n",
    "\n",
    "all_doses_trial_num = 6\n",
    "model_to_use = load_model(\"%s/JTE607_CNN_25nt_6epoch_4col_model_%s.hdf5\" % (models_dir, all_doses_trial_num))\n"
   ]
  },
  {
   "cell_type": "code",
   "execution_count": 4,
   "id": "84324f28-1e56-4c71-9c99-4feab11b1d77",
   "metadata": {},
   "outputs": [
    {
     "name": "stdout",
     "output_type": "stream",
     "text": [
      "passed first\n",
      "5000\n",
      "10000\n",
      "15000\n",
      "20000\n",
      "25000\n",
      "30000\n",
      "35000\n",
      "40000\n",
      "45000\n",
      "50000\n",
      "55000\n",
      "60000\n",
      "65000\n",
      "70000\n",
      "75000\n",
      "80000\n",
      "85000\n",
      "90000\n",
      "95000\n",
      "100000\n",
      "105000\n",
      "110000\n",
      "115000\n",
      "120000\n",
      "125000\n",
      "130000\n",
      "135000\n",
      "140000\n",
      "145000\n",
      "150000\n",
      "155000\n",
      "160000\n",
      "165000\n",
      "170000\n",
      "175000\n",
      "180000\n",
      "185000\n",
      "190000\n",
      "len(first_25nt_loc_seq_pred_list) =  95199\n",
      "len(last_25nt_loc_seq_pred_list) =  95199\n",
      "[('chr1:14395-14421(-)', 'TAAAGAACTGAGCAGAAACCAACAG', -0.23042855), ('chr1:14399-14425(+)', 'TTGGTTTCTGCTCAGTTCTTTATTG', -0.69821537), ('chr1:20490-20516(-)', 'CCCTCTGGCCTTTAAAAATTGTCTG', 0.20700222), ('chr1:20545-20571(-)', 'AATGTTGGGCTTCACATTTGTTCCT', 0.4437983), ('chr1:24203-24229(-)', 'ACCGTGCACAACCATTGATTTGAGT', -0.29061952)]\n",
      "[('chr1:14395-14421(-)', 'AAAGAACTGAGCAGAAACCAACAGT', -0.17156094), ('chr1:14399-14425(+)', 'TGGTTTCTGCTCAGTTCTTTATTGA', 0.28315383), ('chr1:20490-20516(-)', 'CCTCTGGCCTTTAAAAATTGTCTGA', 0.06910547), ('chr1:20545-20571(-)', 'ATGTTGGGCTTCACATTTGTTCCTT', 0.18640745), ('chr1:24203-24229(-)', 'CCGTGCACAACCATTGATTTGAGTG', 0.103304245)]\n"
     ]
    }
   ],
   "source": [
    "\"\"\"\n",
    "Load transcriptome 26 nt sequences and split into lists with first or last 25 nt out of the 26 nt.\n",
    "\"\"\"\n",
    "\n",
    "first_25nt_loc_seq_pred_list = []\n",
    "last_25nt_loc_seq_pred_list = []\n",
    "\n",
    "curr = 0\n",
    "\n",
    "with open(transcriptome_26nt_file, \"r\") as f:\n",
    "    for line in f:\n",
    "        curr += 1\n",
    "        if curr % 5000 == 0:\n",
    "            print(curr)\n",
    "        line = line.strip()\n",
    "        if line[0] == \">\":\n",
    "            curr_location = line[1:]\n",
    "        else:  # sequence found\n",
    "            # record only 12.5 uM / DMSO prediction\n",
    "            first_25nt_pred = model_to_use.predict(one_hot_encode([line[:25]], max_seq_len=25))\n",
    "            first_25nt_loc_seq_pred_list.append((curr_location, line[:25], first_25nt_pred[0][2]))\n",
    "            last_25nt_pred = model_to_use.predict(one_hot_encode([line[-25:]], max_seq_len=25))\n",
    "            last_25nt_loc_seq_pred_list.append((curr_location, line[-25:], last_25nt_pred[0][2]))\n",
    "        if curr == 1:\n",
    "            print(\"passed first\")\n",
    "            \n",
    "print(\"len(first_25nt_loc_seq_pred_list) = \", len(first_25nt_loc_seq_pred_list))\n",
    "print(\"len(last_25nt_loc_seq_pred_list) = \", len(last_25nt_loc_seq_pred_list))\n",
    "print(first_25nt_loc_seq_pred_list[:5])\n",
    "print(last_25nt_loc_seq_pred_list[:5])"
   ]
  },
  {
   "cell_type": "code",
   "execution_count": 5,
   "id": "99234ea4-6c4b-4286-ab3e-7875b2026a18",
   "metadata": {},
   "outputs": [],
   "source": [
    "\"\"\"\n",
    "Output the predictions\n",
    "\"\"\"\n",
    "\n",
    "with open(predictions_output_dir + \"first_25nt_CNN_predictions.txt\", \"w\") as f:\n",
    "    f.write(\"Location\\tSequence\\tPredicted_12p5uM_DMSO_ratio\\n\")\n",
    "    for var in first_25nt_loc_seq_pred_list:\n",
    "        f.write(\"\\t\".join([str(i) for i in var]) + \"\\n\")\n",
    "\n",
    "with open(predictions_output_dir + \"last_25nt_CNN_predictions.txt\", \"w\") as f:\n",
    "    f.write(\"Location\\tSequence\\tPredicted_12p5uM_DMSO_ratio\\n\")\n",
    "    for var in last_25nt_loc_seq_pred_list:\n",
    "        f.write(\"\\t\".join([str(i) for i in var]) + \"\\n\")"
   ]
  },
  {
   "cell_type": "code",
   "execution_count": 6,
   "id": "959b90fa-301a-4d27-ad4a-78bc3f493ee5",
   "metadata": {},
   "outputs": [],
   "source": [
    "pickle.dump(first_25nt_loc_seq_pred_list, open(predictions_output_dir + \"first_25nt_loc_seq_pred_list.pickle\", \"wb\"))\n",
    "pickle.dump(last_25nt_loc_seq_pred_list, open(predictions_output_dir + \"last_25nt_loc_seq_pred_list.pickle\", \"wb\"))\n"
   ]
  },
  {
   "cell_type": "code",
   "execution_count": null,
   "id": "0fc92653-a2f3-4edf-a6f8-7cf896ce7d87",
   "metadata": {},
   "outputs": [],
   "source": []
  }
 ],
 "metadata": {
  "kernelspec": {
   "display_name": "Environment (conda_tensorflow2_p37)",
   "language": "python",
   "name": "conda_tensorflow2_p37"
  },
  "language_info": {
   "codemirror_mode": {
    "name": "ipython",
    "version": 3
   },
   "file_extension": ".py",
   "mimetype": "text/x-python",
   "name": "python",
   "nbconvert_exporter": "python",
   "pygments_lexer": "ipython3",
   "version": "3.7.10"
  }
 },
 "nbformat": 4,
 "nbformat_minor": 5
}
