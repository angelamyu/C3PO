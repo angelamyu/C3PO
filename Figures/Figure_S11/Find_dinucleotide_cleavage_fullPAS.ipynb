{
 "cells": [
  {
   "cell_type": "code",
   "execution_count": 1,
   "id": "18cd7a13",
   "metadata": {},
   "outputs": [],
   "source": [
    "\"\"\"\n",
    "Looking for any barcodes that only differ on the YA\n",
    "\"\"\"\n",
    "\n",
    "import gzip\n",
    "import matplotlib.pyplot as plt\n",
    "from scipy.stats import linregress\n",
    "import numpy as np\n",
    "from scipy import stats\n",
    "import seaborn as sns\n",
    "import pandas as pd\n",
    "import pingouin as pg\n",
    "\n",
    "\n",
    "def r2(x,y):\n",
    "    slope, intercept, r_value, p_value, std_err = linregress(x,y)\n",
    "    return r_value**2\n",
    "\n",
    "\n",
    "def Pearson_r(x,y):\n",
    "    slope, intercept, r_value, p_value, std_err = linregress(x,y)\n",
    "    return r_value\n",
    "\n",
    "plt.rcParams[\"figure.figsize\"] = (3.5,2.5)\n",
    "figures_dir = \"/JTE-607/Analysis/Figures/Revisions_1/\""
   ]
  },
  {
   "cell_type": "code",
   "execution_count": 2,
   "id": "ee25a75e",
   "metadata": {},
   "outputs": [
    {
     "name": "stdout",
     "output_type": "stream",
     "text": [
      "len(L3_dinucleotide_pairs.keys()) =  0\n",
      "len(SVLst_dinucleotide_pairs.keys()) =  0\n"
     ]
    }
   ],
   "source": [
    "\"\"\"\n",
    "Search function for YA pairs of barcode regions within each backbone\n",
    "\"\"\"\n",
    "def search_YA_pairs(barcodes_set, prefix_len=-1):\n",
    "    Y_opposite_map = {\"C\": \"T\", \"T\": \"C\"}\n",
    "    dinucleotide_pairs = {}  # barcode ending in C -> barcode ending in T\n",
    "    for barcode in barcodes_set:\n",
    "        Y_identity = barcode[prefix_len - 1]\n",
    "        if Y_identity in Y_opposite_map.keys():\n",
    "            search_barcode = barcode[:(prefix_len - 1)] + Y_opposite_map[Y_identity] + barcode[prefix_len:]\n",
    "            if search_barcode in barcodes_set:\n",
    "                if Y_identity == \"C\":\n",
    "                    dinucleotide_pairs[barcode] = search_barcode\n",
    "                else:\n",
    "                    dinucleotide_pairs[search_barcode] = barcode\n",
    "    return dinucleotide_pairs\n",
    "\n",
    "\n",
    "L3_barcodes_12p5uM = {}  # barcode -> 12p5uM_log_ratio\n",
    "SVLst_barcodes_12p5uM = {}  # barcode -> 12p5uM_log_ratio\n",
    "with gzip.open(\"/JTE-607/Analysis/Figures/JTE607_CNN_25nt_6epoch_4col_model_6/Figure_3/L3_SVLst_merged_logratios.csv.gz\", \"rt\") as f:\n",
    "    f.readline()  # throw away header\n",
    "    for line in f:\n",
    "        var = line.split()\n",
    "        if var[5] == \"L3\":\n",
    "            L3_barcodes_12p5uM[var[4]] = float(var[3])\n",
    "        elif var[5] == \"SVLst\":\n",
    "            SVLst_barcodes_12p5uM[var[4]] = float(var[3])\n",
    "\n",
    "# find barcodes in each backbone that only differ on the YA\n",
    "L3_barcodes_set = set(L3_barcodes_12p5uM.keys())\n",
    "SVLst_barcodes_set = set(SVLst_barcodes_12p5uM.keys())\n",
    "L3_dinucleotide_pairs = search_YA_pairs(L3_barcodes_set, 13)\n",
    "SVLst_dinucleotide_pairs = search_YA_pairs(SVLst_barcodes_set, 12)\n",
    "\n",
    "print(\"len(L3_dinucleotide_pairs.keys()) = \", len(L3_dinucleotide_pairs.keys()))\n",
    "print(\"len(SVLst_dinucleotide_pairs.keys()) = \", len(SVLst_dinucleotide_pairs.keys()))\n"
   ]
  },
  {
   "cell_type": "code",
   "execution_count": 3,
   "id": "edb555e6-642d-479e-b4be-95a3566d70c4",
   "metadata": {},
   "outputs": [
    {
     "name": "stdout",
     "output_type": "stream",
     "text": [
      "len(L3_CA_seqs) =  84677\n",
      "len(L3_TA_seqs) =  73599\n",
      "len(SVLst_CA_seqs) =  61111\n",
      "len(SVLst_TA_seqs) =  41900\n"
     ]
    }
   ],
   "source": [
    "\"\"\"\n",
    "Since no exact YA changes, aggregating all CA vs. TA dinucleotide identities within each background.\n",
    "\"\"\"\n",
    "\n",
    "def classify_YA_identity(PAS_fullseq, prefix_len=-1):\n",
    "    Y_identity = PAS_fullseq[prefix_len - 1]\n",
    "    return Y_identity\n",
    "\n",
    "\n",
    "def separate_CA_YA_PAS(PAS_set, prefix_len=-1):\n",
    "    CA_seqs = []\n",
    "    TA_seqs = []\n",
    "    for PAS_seq in PAS_set:\n",
    "        Y_identity = classify_YA_identity(PAS_seq, prefix_len)\n",
    "        if Y_identity == \"C\":\n",
    "            CA_seqs.append(PAS_seq)\n",
    "        elif Y_identity == \"T\":\n",
    "            TA_seqs.append(PAS_seq)\n",
    "    return CA_seqs, TA_seqs\n",
    "\n",
    "\n",
    "L3_CA_seqs, L3_TA_seqs = separate_CA_YA_PAS(L3_barcodes_set, 13)\n",
    "SVLst_CA_seqs, SVLst_TA_seqs = separate_CA_YA_PAS(SVLst_barcodes_set, 12)\n",
    "\n",
    "print(\"len(L3_CA_seqs) = \", len(L3_CA_seqs))\n",
    "print(\"len(L3_TA_seqs) = \", len(L3_TA_seqs))\n",
    "print(\"len(SVLst_CA_seqs) = \", len(SVLst_CA_seqs))\n",
    "print(\"len(SVLst_TA_seqs) = \", len(SVLst_TA_seqs))\n"
   ]
  },
  {
   "cell_type": "code",
   "execution_count": 4,
   "id": "bcab312b-e18b-48dc-9781-0fa0adf5e5f9",
   "metadata": {},
   "outputs": [
    {
     "data": {
      "image/png": "[encoded data removed]",
      "text/plain": [
       "<Figure size 252x180 with 1 Axes>"
      ]
     },
     "metadata": {
      "needs_background": "light"
     },
     "output_type": "display_data"
    },
    {
     "name": "stdout",
     "output_type": "stream",
     "text": [
      "L3 mean 12.5uM CA vs. TA =  -0.14754117123662855 -0.10234311330290077\n",
      "t-test ind L3 12.5uM CA vs. TA =  Ttest_indResult(statistic=-16.756905800957934, pvalue=5.740853169220908e-63)\n",
      "Hedge's g =  -0.08474608627258774\n",
      "Cohen's d =  -0.08474648785444128\n",
      "n =  84677\n"
     ]
    },
    {
     "name": "stderr",
     "output_type": "stream",
     "text": [
      "/home/ec2-user/anaconda3/envs/tensorflow2_p37/lib/python3.7/site-packages/pingouin/effsize.py:779: UserWarning: x and y have unequal sizes. Switching to paired == False.\n",
      "  warnings.warn(\"x and y have unequal sizes. Switching to \" \"paired == False.\")\n"
     ]
    },
    {
     "data": {
      "image/png": "[encoded data removed]",
      "text/plain": [
       "<Figure size 252x180 with 1 Axes>"
      ]
     },
     "metadata": {
      "needs_background": "light"
     },
     "output_type": "display_data"
    },
    {
     "name": "stdout",
     "output_type": "stream",
     "text": [
      "SVLst mean 12.5uM CA vs. TA =  -0.12086141789977765 -0.05632661693398257\n",
      "t-test ind SVLst 12.5uM CA vs. TA =  Ttest_indResult(statistic=-23.385007452237634, pvalue=1.4198675809471321e-120)\n",
      "Hedge's g =  -0.14927890164438795\n",
      "Cohen's d =  -0.1492799885422622\n",
      "n =  61111\n"
     ]
    },
    {
     "name": "stderr",
     "output_type": "stream",
     "text": [
      "/home/ec2-user/anaconda3/envs/tensorflow2_p37/lib/python3.7/site-packages/pingouin/effsize.py:779: UserWarning: x and y have unequal sizes. Switching to paired == False.\n",
      "  warnings.warn(\"x and y have unequal sizes. Switching to \" \"paired == False.\")\n"
     ]
    },
    {
     "data": {
      "text/plain": [
       "<Figure size 252x180 with 0 Axes>"
      ]
     },
     "metadata": {},
     "output_type": "display_data"
    }
   ],
   "source": [
    "\"\"\"\n",
    "Plot drug resistance at 12.5uM\n",
    "\"\"\"\n",
    "\n",
    "L3_C_12p5uM_vals = [L3_barcodes_12p5uM[curr_seq] for curr_seq in L3_CA_seqs]\n",
    "L3_T_12p5uM_vals = [L3_barcodes_12p5uM[curr_seq] for curr_seq in L3_TA_seqs]\n",
    "L3_Y_12p5uM_df = pd.DataFrame(list(zip(L3_C_12p5uM_vals + L3_T_12p5uM_vals, \\\n",
    "                                       [\"C\"] * len(L3_C_12p5uM_vals) + [\"T\"] * len(L3_T_12p5uM_vals))), \\\n",
    "                              columns = [\"12p5uM_resistance\", \"Y_identity\"])\n",
    "L3_Y_12p5uM_df.to_csv('/JTE-607/Analysis/Figures/Source_Data/L3_Y_12p5uM_resistance_df.tsv', sep=\"\\t\", index=True)\n",
    "sns.violinplot(data=L3_Y_12p5uM_df, x=\"Y_identity\", y=\"12p5uM_resistance\", clip=0)\n",
    "plt.tight_layout()\n",
    "plt.savefig(figures_dir + \"L3_YA_fullPAS_resistance_scatter.pdf\")\n",
    "plt.show()\n",
    "plt.clf()\n",
    "print(\"L3 mean 12.5uM CA vs. TA = \", np.mean(L3_C_12p5uM_vals), np.mean(L3_T_12p5uM_vals))\n",
    "print(\"t-test ind L3 12.5uM CA vs. TA = \", stats.ttest_ind(L3_C_12p5uM_vals, L3_T_12p5uM_vals, equal_var=False))\n",
    "print(\"Hedge's g = \", pg.compute_effsize(L3_C_12p5uM_vals, L3_T_12p5uM_vals, paired=True, eftype='hedges'))\n",
    "print(\"Cohen's d = \", pg.compute_effsize(L3_C_12p5uM_vals, L3_T_12p5uM_vals, paired=True, eftype='cohen'))\n",
    "print(\"n = \", len(L3_C_12p5uM_vals))\n",
    "\n",
    "SVLst_C_12p5uM_vals = [SVLst_barcodes_12p5uM[curr_seq] for curr_seq in SVLst_CA_seqs]\n",
    "SVLst_T_12p5uM_vals = [SVLst_barcodes_12p5uM[curr_seq] for curr_seq in SVLst_TA_seqs]\n",
    "SVLst_Y_12p5uM_df = pd.DataFrame(list(zip(SVLst_C_12p5uM_vals + SVLst_T_12p5uM_vals, \\\n",
    "                                          [\"C\"] * len(SVLst_C_12p5uM_vals) + [\"T\"] * len(SVLst_T_12p5uM_vals))), \\\n",
    "                              columns = [\"12p5uM_resistance\", \"Y_identity\"])\n",
    "SVLst_Y_12p5uM_df.to_csv('/JTE-607/Analysis/Figures/Source_Data/SVLst_Y_12p5uM_resistance_df.tsv', sep=\"\\t\", index=True)\n",
    "sns.violinplot(data=SVLst_Y_12p5uM_df, x=\"Y_identity\", y=\"12p5uM_resistance\", clip=0)\n",
    "plt.tight_layout()\n",
    "plt.savefig(figures_dir + \"SVLst_YA_fullPAS_resistance_scatter.pdf\")\n",
    "plt.show()\n",
    "plt.clf()\n",
    "print(\"SVLst mean 12.5uM CA vs. TA = \", np.mean(SVLst_C_12p5uM_vals), np.mean(SVLst_T_12p5uM_vals))\n",
    "print(\"t-test ind SVLst 12.5uM CA vs. TA = \", stats.ttest_ind(SVLst_C_12p5uM_vals, SVLst_T_12p5uM_vals, equal_var=False))\n",
    "print(\"Hedge's g = \", pg.compute_effsize(SVLst_C_12p5uM_vals, SVLst_T_12p5uM_vals, paired=True, eftype='hedges'))\n",
    "print(\"Cohen's d = \", pg.compute_effsize(SVLst_C_12p5uM_vals, SVLst_T_12p5uM_vals, paired=True, eftype='cohen'))\n",
    "print(\"n = \", len(SVLst_C_12p5uM_vals))\n"
   ]
  },
  {
   "cell_type": "code",
   "execution_count": 5,
   "id": "87f915ca-ad6c-4636-842f-8a18396044e5",
   "metadata": {},
   "outputs": [
    {
     "data": {
      "image/png": "[encoded data removed]",
      "text/plain": [
       "<Figure size 252x180 with 1 Axes>"
      ]
     },
     "metadata": {
      "needs_background": "light"
     },
     "output_type": "display_data"
    },
    {
     "name": "stdout",
     "output_type": "stream",
     "text": [
      "L3 mean input_DMSO cleavage efficiency CA vs. TA =  0.40662508776211315 0.33950829298112706\n",
      "t-test ind L3 input_DMSO cleavage efficiency CA vs. TA =  Ttest_indResult(statistic=14.298746410814742, pvalue=2.381832482335179e-46)\n",
      "Hedge's g =  0.07131859712573946\n",
      "Cohen's d =  0.07131893588422027\n",
      "n =  84413\n"
     ]
    },
    {
     "name": "stderr",
     "output_type": "stream",
     "text": [
      "/home/ec2-user/anaconda3/envs/tensorflow2_p37/lib/python3.7/site-packages/pingouin/effsize.py:779: UserWarning: x and y have unequal sizes. Switching to paired == False.\n",
      "  warnings.warn(\"x and y have unequal sizes. Switching to \" \"paired == False.\")\n"
     ]
    },
    {
     "data": {
      "image/png": "[encoded data removed]",
      "text/plain": [
       "<Figure size 252x180 with 1 Axes>"
      ]
     },
     "metadata": {
      "needs_background": "light"
     },
     "output_type": "display_data"
    },
    {
     "name": "stdout",
     "output_type": "stream",
     "text": [
      "SVLst mean input_DMSO cleavage efficiency CA vs. TA =  0.5709065190395723 0.392981553351023\n",
      "t-test ind SVLst input_DMSO cleavage efficiency CA vs. TA =  Ttest_indResult(statistic=31.887895268175328, pvalue=5.3173880470940655e-222)\n",
      "Hedge's g =  0.19598920660806599\n",
      "Cohen's d =  0.19599063676865128\n",
      "n =  60971\n"
     ]
    },
    {
     "name": "stderr",
     "output_type": "stream",
     "text": [
      "/home/ec2-user/anaconda3/envs/tensorflow2_p37/lib/python3.7/site-packages/pingouin/effsize.py:779: UserWarning: x and y have unequal sizes. Switching to paired == False.\n",
      "  warnings.warn(\"x and y have unequal sizes. Switching to \" \"paired == False.\")\n"
     ]
    },
    {
     "data": {
      "text/plain": [
       "<Figure size 252x180 with 0 Axes>"
      ]
     },
     "metadata": {},
     "output_type": "display_data"
    }
   ],
   "source": [
    "\"\"\"\n",
    "Plot estimated cleavage efficiencies from DMSO and input\n",
    "\"\"\"\n",
    "\n",
    "from scipy import stats\n",
    "import matplotlib.pyplot as plt\n",
    "from scipy.special import logit\n",
    "\n",
    "# checking correlation between APARENT scores and input / DMSO reads\n",
    "# calculating normalized input percentages, filtering for min coverage of 50 reads\n",
    "\n",
    "def load_input_percentages(barcode_clusters_culled_file, min_cov=100):\n",
    "    barcode_percents = {}\n",
    "    with open(barcode_clusters_culled_file, \"r\") as f:\n",
    "        f.readline()  # throw out header\n",
    "        total_reads = 0\n",
    "        for line in f:\n",
    "            var = line.split(\"\\t\")\n",
    "            barcode = var[0]\n",
    "            coverage = float(var[2])\n",
    "            total_reads += coverage\n",
    "            if coverage >= min_cov:\n",
    "                barcode_percents[barcode] = coverage\n",
    "\n",
    "    for barcode, reads in barcode_percents.items():\n",
    "        barcode_percents[barcode] = barcode_percents[barcode]/total_reads\n",
    "    \n",
    "    return barcode_percents\n",
    "\n",
    "\n",
    "def load_DMSO_percentages_cutsite(PAS_read_counts_file, cut_site=46, min_cov=100):\n",
    "    barcode_percents = {}\n",
    "    with open(PAS_read_counts_file, \"r\") as f:\n",
    "        total_reads = 0\n",
    "        for line in f:\n",
    "            var = line.split(\"\\t\")\n",
    "            barcode = var[0]\n",
    "            cut_pos = int(var[1])\n",
    "            coverage = float(var[2])\n",
    "            total_reads += coverage\n",
    "            if coverage >= min_cov and cut_pos == cut_site:\n",
    "                barcode_percents[barcode] = coverage\n",
    "\n",
    "    for barcode, reads in barcode_percents.items():\n",
    "        barcode_percents[barcode] = barcode_percents[barcode]/total_reads\n",
    "    \n",
    "    return barcode_percents\n",
    "\n",
    "\n",
    "# L3 input\n",
    "L3_barcode_clusters_culled_file = \"/JTE-607/Analysis/parsed_L3_input_RNA_clusterPASRandom_bbmerge_xloose/L3_input_barcode_clusters_consensus_seq_culled.txt\"\n",
    "L3_barcode_percents = load_input_percentages(L3_barcode_clusters_culled_file, min_cov=1)\n",
    "\n",
    "# SVLst input\n",
    "SVLst_barcode_clusters_culled_file = \"/JTE-607/Analysis/parsed_SVLst_input_RNA_clusterPASRandom_bbmerge_xloose/SVLst_input_barcode_clusters_consensus_seq_culled.txt\"\n",
    "SVLst_barcode_percents = load_input_percentages(SVLst_barcode_clusters_culled_file, min_cov=1)\n",
    "\n",
    "# L3 DMSO\n",
    "L3_DMSO_PAS_read_counts_file = \"/JTE-607/Analysis/parsed_L3_input_RNA_clusterPASRandom_bbmerge_xloose/parsed_L3_cleaved_RNA_multimapping_mincov1_preload_bbmerge_xloose_H1shortN4indel/collapsed/L3_DMSO_polya_pos.txt\"\n",
    "L3_DMSO_barcode_percents = load_DMSO_percentages_cutsite(L3_DMSO_PAS_read_counts_file, cut_site=46, min_cov=1)\n",
    "\n",
    "# SVLst DMSO\n",
    "SVLst_DMSO_PAS_read_counts_file = \"/JTE-607/Analysis/parsed_SVLst_input_RNA_clusterPASRandom_bbmerge_xloose/parsed_SVLst_cleaved_RNA_multimapping_mincov1_preload_bbmerge_xloose_H1shortN4indel/collapsed/SVLst_DMSO_polya_pos.txt\"\n",
    "SVLst_DMSO_barcode_percents = load_DMSO_percentages_cutsite(SVLst_DMSO_PAS_read_counts_file, cut_site=46, min_cov=1)\n",
    "\n",
    "# Calculate estimated cleavage rate = DMSO % / input %\n",
    "# L3 estimated cleavage rate\n",
    "L3_cleaved_enrichment = {}\n",
    "for PAS, input_percentage in L3_barcode_percents.items():\n",
    "    if PAS in L3_DMSO_barcode_percents:\n",
    "        p = L3_DMSO_barcode_percents[PAS] / (L3_DMSO_barcode_percents[PAS] + L3_barcode_percents[PAS])\n",
    "        L3_cleaved_enrichment[PAS] = logit(p)\n",
    "    #else:\n",
    "    #    L3_cleaved_enrichment[PAS] = 0\n",
    "\n",
    "# SVLst estimated cleavage rate\n",
    "SVLst_cleaved_enrichment = {}\n",
    "for PAS, input_percentage in SVLst_barcode_percents.items():\n",
    "    if PAS in SVLst_DMSO_barcode_percents:\n",
    "        p = SVLst_DMSO_barcode_percents[PAS] / (SVLst_DMSO_barcode_percents[PAS] + SVLst_barcode_percents[PAS])\n",
    "        SVLst_cleaved_enrichment[PAS] = logit(p)\n",
    "    #else:\n",
    "    #    SVLst_cleaved_enrichment[PAS] = 0\n",
    "# cleanup\n",
    "del SVLst_DMSO_barcode_percents, SVLst_barcode_percents, L3_DMSO_barcode_percents, L3_barcode_percents\n",
    "\n",
    "# plot L3 measured efficiences for CA vs. TA\n",
    "L3_C_input_DMSO_vals = [L3_cleaved_enrichment[curr_seq] for curr_seq in L3_CA_seqs if curr_seq in L3_cleaved_enrichment]\n",
    "L3_T_input_DMSO_vals = [L3_cleaved_enrichment[curr_seq] for curr_seq in L3_TA_seqs if curr_seq in L3_cleaved_enrichment]\n",
    "L3_Y_input_DMSO_df = pd.DataFrame(list(zip(L3_C_input_DMSO_vals + L3_T_input_DMSO_vals, \\\n",
    "                                       [\"C\"] * len(L3_C_input_DMSO_vals) + [\"T\"] * len(L3_T_input_DMSO_vals))), \\\n",
    "                              columns = [\"DMSO_Input_cleavage_efficiency\", \"Y_identity\"])\n",
    "L3_Y_input_DMSO_df.to_csv('/JTE-607/Analysis/Figures/Source_Data/L3_Y_input_DMSO_df.tsv', sep=\"\\t\", index=True)\n",
    "sns.violinplot(data=L3_Y_input_DMSO_df, x=\"Y_identity\", y=\"DMSO_Input_cleavage_efficiency\", clip=0)\n",
    "plt.tight_layout()\n",
    "plt.savefig(figures_dir + \"L3_YA_fullPAS_input_DMSO_scatter.pdf\")\n",
    "plt.show()\n",
    "plt.clf()\n",
    "print(\"L3 mean input_DMSO cleavage efficiency CA vs. TA = \", \\\n",
    "      np.mean(L3_C_input_DMSO_vals), np.mean(L3_T_input_DMSO_vals))\n",
    "print(\"t-test ind L3 input_DMSO cleavage efficiency CA vs. TA = \", \\\n",
    "      stats.ttest_ind(L3_C_input_DMSO_vals, L3_T_input_DMSO_vals, equal_var=False))\n",
    "print(\"Hedge's g = \", pg.compute_effsize(L3_C_input_DMSO_vals, L3_T_input_DMSO_vals, paired=True, eftype='hedges'))\n",
    "print(\"Cohen's d = \", pg.compute_effsize(L3_C_input_DMSO_vals, L3_T_input_DMSO_vals, paired=True, eftype='cohen'))\n",
    "print(\"n = \", len(L3_C_input_DMSO_vals))\n",
    "\n",
    "# plot SVLst measured efficiences for CA vs. TA\n",
    "SVLst_C_input_DMSO_vals = [SVLst_cleaved_enrichment[curr_seq] for curr_seq in SVLst_CA_seqs if curr_seq in SVLst_cleaved_enrichment]\n",
    "SVLst_T_input_DMSO_vals = [SVLst_cleaved_enrichment[curr_seq] for curr_seq in SVLst_TA_seqs if curr_seq in SVLst_cleaved_enrichment]\n",
    "SVLst_Y_input_DMSO_df = pd.DataFrame(list(zip(SVLst_C_input_DMSO_vals + SVLst_T_input_DMSO_vals, \\\n",
    "                                       [\"C\"] * len(SVLst_C_input_DMSO_vals) + [\"T\"] * len(SVLst_T_input_DMSO_vals))), \\\n",
    "                              columns = [\"DMSO_Input_cleavage_efficiency\", \"Y_identity\"])\n",
    "SVLst_Y_input_DMSO_df.to_csv('/JTE-607/Analysis/Figures/Source_Data/SVLst_Y_input_DMSO_df.tsv', sep=\"\\t\", index=True)\n",
    "sns.violinplot(data=SVLst_Y_input_DMSO_df, x=\"Y_identity\", y=\"DMSO_Input_cleavage_efficiency\", clip=0)\n",
    "plt.tight_layout()\n",
    "plt.savefig(figures_dir + \"SVLst_YA_fullPAS_input_DMSO_scatter.pdf\")\n",
    "plt.show()\n",
    "plt.clf()\n",
    "print(\"SVLst mean input_DMSO cleavage efficiency CA vs. TA = \", \\\n",
    "      np.mean(SVLst_C_input_DMSO_vals), np.mean(SVLst_T_input_DMSO_vals))\n",
    "print(\"t-test ind SVLst input_DMSO cleavage efficiency CA vs. TA = \", \\\n",
    "      stats.ttest_ind(SVLst_C_input_DMSO_vals, SVLst_T_input_DMSO_vals, equal_var=False))\n",
    "print(\"Hedge's g = \", pg.compute_effsize(SVLst_C_input_DMSO_vals, SVLst_T_input_DMSO_vals, paired=True, eftype='hedges'))\n",
    "print(\"Cohen's d = \", pg.compute_effsize(SVLst_C_input_DMSO_vals, SVLst_T_input_DMSO_vals, paired=True, eftype='cohen'))\n",
    "print(\"n = \", len(SVLst_C_input_DMSO_vals))\n"
   ]
  },
  {
   "cell_type": "code",
   "execution_count": 6,
   "id": "556df941-7eac-4587-b6ab-3eaf55124797",
   "metadata": {},
   "outputs": [
    {
     "data": {
      "image/png": "[encoded data removed]",
      "text/plain": [
       "<Figure size 252x180 with 1 Axes>"
      ]
     },
     "metadata": {
      "needs_background": "light"
     },
     "output_type": "display_data"
    },
    {
     "name": "stdout",
     "output_type": "stream",
     "text": [
      "L3 mean APARENT2 cleavage efficiency CA vs. TA =  -0.3688559095875687 -0.7552449657657986\n",
      "t-test ind L3 APARENT2 cleavage efficiency CA vs. TA =  Ttest_indResult(statistic=83.9609474202007, pvalue=0.0)\n",
      "Hedge's g =  0.4187799234881038\n",
      "Cohen's d =  0.4187819079511965\n",
      "n =  84676\n"
     ]
    },
    {
     "name": "stderr",
     "output_type": "stream",
     "text": [
      "/home/ec2-user/anaconda3/envs/tensorflow2_p37/lib/python3.7/site-packages/pingouin/effsize.py:779: UserWarning: x and y have unequal sizes. Switching to paired == False.\n",
      "  warnings.warn(\"x and y have unequal sizes. Switching to \" \"paired == False.\")\n"
     ]
    },
    {
     "data": {
      "image/png": "[encoded data removed]",
      "text/plain": [
       "<Figure size 252x180 with 1 Axes>"
      ]
     },
     "metadata": {
      "needs_background": "light"
     },
     "output_type": "display_data"
    },
    {
     "name": "stdout",
     "output_type": "stream",
     "text": [
      "SVLst mean APARENT2 cleavage efficiency CA vs. TA =  -0.8746113436343989 -1.2313689339347424\n",
      "t-test ind SVLst APARENT2 cleavage efficiency CA vs. TA =  Ttest_indResult(statistic=57.55281967237162, pvalue=0.0)\n",
      "Hedge's g =  0.3618990858678399\n",
      "Cohen's d =  0.3619017208506995\n",
      "n =  61111\n"
     ]
    },
    {
     "name": "stderr",
     "output_type": "stream",
     "text": [
      "/home/ec2-user/anaconda3/envs/tensorflow2_p37/lib/python3.7/site-packages/pingouin/effsize.py:779: UserWarning: x and y have unequal sizes. Switching to paired == False.\n",
      "  warnings.warn(\"x and y have unequal sizes. Switching to \" \"paired == False.\")\n"
     ]
    },
    {
     "data": {
      "text/plain": [
       "<Figure size 252x180 with 0 Axes>"
      ]
     },
     "metadata": {},
     "output_type": "display_data"
    }
   ],
   "source": [
    "\"\"\"\n",
    "Plot APARENT2 cleavage efficiencies\n",
    "\"\"\"\n",
    "\n",
    "# parsing through APARENT scores\n",
    "APARENT_score_file = \"/JTE-607/Analysis/parsed_L3_input_RNA_clusterPASRandom_bbmerge_xloose/parsed_L3_cleaved_RNA_multimapping_mincov1_preload_bbmerge_xloose/collapsed/all_DMSO_sequences_shifted_pred.csv\"\n",
    "L3_APARENT_iso_pred_cut_nuc_scores_dict = {}  # PAS_barcode -> APARENT score\n",
    "SVLst_APARENT_iso_pred_cut_nuc_scores_dict = {}  # PAS_barcode -> APARENT score\n",
    "\n",
    "with open(APARENT_score_file, \"r\") as f:\n",
    "    f.readline()  # throw out header\n",
    "    for line in f:\n",
    "        var = line.split(\"\\t\")\n",
    "        sequence = var[0]\n",
    "        iso_pred_cut_nuc = float(var[14])  # iso_pred_cut_nuc\n",
    "        PAS = sequence[76:101]  # b/c shifted to same location in APARENT\n",
    "        if sequence[:3] == \"NNN\":\n",
    "            # L3 variant\n",
    "            if PAS in L3_barcodes_12p5uM:\n",
    "                L3_APARENT_iso_pred_cut_nuc_scores_dict[PAS] = iso_pred_cut_nuc\n",
    "        else:\n",
    "            # SVLst variant\n",
    "            if PAS in SVLst_barcodes_12p5uM:\n",
    "                SVLst_APARENT_iso_pred_cut_nuc_scores_dict[PAS] = iso_pred_cut_nuc\n",
    "\n",
    "\n",
    "L3_C_APARENT2_vals = [L3_APARENT_iso_pred_cut_nuc_scores_dict[curr_seq] for curr_seq in L3_CA_seqs if curr_seq in L3_APARENT_iso_pred_cut_nuc_scores_dict]\n",
    "L3_T_APARENT2_vals = [L3_APARENT_iso_pred_cut_nuc_scores_dict[curr_seq] for curr_seq in L3_TA_seqs if curr_seq in L3_APARENT_iso_pred_cut_nuc_scores_dict]\n",
    "L3_Y_APARENT2_df = pd.DataFrame(list(zip(L3_C_APARENT2_vals + L3_T_APARENT2_vals, \\\n",
    "                                       [\"C\"] * len(L3_C_APARENT2_vals) + [\"T\"] * len(L3_T_APARENT2_vals))), \\\n",
    "                              columns = [\"APARENT2_cleavage_efficiency\", \"Y_identity\"])\n",
    "L3_Y_APARENT2_df.to_csv('/JTE-607/Analysis/Figures/Source_Data/L3_Y_APARENT2_df.tsv', sep=\"\\t\", index=True)\n",
    "sns.violinplot(data=L3_Y_APARENT2_df, x=\"Y_identity\", y=\"APARENT2_cleavage_efficiency\", clip=0)\n",
    "plt.tight_layout()\n",
    "plt.savefig(figures_dir + \"L3_YA_fullPAS_APARENT2_scatter.pdf\")\n",
    "plt.show()\n",
    "plt.clf()\n",
    "print(\"L3 mean APARENT2 cleavage efficiency CA vs. TA = \", \\\n",
    "      np.mean(L3_C_APARENT2_vals), np.mean(L3_T_APARENT2_vals))\n",
    "print(\"t-test ind L3 APARENT2 cleavage efficiency CA vs. TA = \", \\\n",
    "      stats.ttest_ind(L3_C_APARENT2_vals, L3_T_APARENT2_vals, equal_var=False))\n",
    "print(\"Hedge's g = \", pg.compute_effsize(L3_C_APARENT2_vals, L3_T_APARENT2_vals, paired=True, eftype='hedges'))\n",
    "print(\"Cohen's d = \", pg.compute_effsize(L3_C_APARENT2_vals, L3_T_APARENT2_vals, paired=True, eftype='cohen'))\n",
    "print(\"n = \", len(L3_C_APARENT2_vals))\n",
    "\n",
    "SVLst_C_APARENT2_vals = [SVLst_APARENT_iso_pred_cut_nuc_scores_dict[curr_seq] for curr_seq in SVLst_CA_seqs if curr_seq in SVLst_APARENT_iso_pred_cut_nuc_scores_dict]\n",
    "SVLst_T_APARENT2_vals = [SVLst_APARENT_iso_pred_cut_nuc_scores_dict[curr_seq] for curr_seq in SVLst_TA_seqs if curr_seq in SVLst_APARENT_iso_pred_cut_nuc_scores_dict]\n",
    "SVLst_Y_APARENT2_df = pd.DataFrame(list(zip(SVLst_C_APARENT2_vals + SVLst_T_APARENT2_vals, \\\n",
    "                                       [\"C\"] * len(SVLst_C_APARENT2_vals) + [\"T\"] * len(SVLst_T_APARENT2_vals))), \\\n",
    "                              columns = [\"APARENT2_cleavage_efficiency\", \"Y_identity\"])\n",
    "SVLst_Y_APARENT2_df.to_csv('/JTE-607/Analysis/Figures/Source_Data/SVLst_Y_APARENT2_df.tsv', sep=\"\\t\", index=True)\n",
    "sns.violinplot(data=SVLst_Y_APARENT2_df, x=\"Y_identity\", y=\"APARENT2_cleavage_efficiency\", clip=0)\n",
    "plt.tight_layout()\n",
    "plt.savefig(figures_dir + \"SVLst_YA_fullPAS_APARENT2_scatter.pdf\")\n",
    "plt.show()\n",
    "plt.clf()\n",
    "print(\"SVLst mean APARENT2 cleavage efficiency CA vs. TA = \", \\\n",
    "      np.mean(SVLst_C_APARENT2_vals), np.mean(SVLst_T_APARENT2_vals))\n",
    "print(\"t-test ind SVLst APARENT2 cleavage efficiency CA vs. TA = \", \\\n",
    "      stats.ttest_ind(SVLst_C_APARENT2_vals, SVLst_T_APARENT2_vals, equal_var=False))\n",
    "print(\"Hedge's g = \", pg.compute_effsize(SVLst_C_APARENT2_vals, SVLst_T_APARENT2_vals, paired=True, eftype='hedges'))\n",
    "print(\"Cohen's d = \", pg.compute_effsize(SVLst_C_APARENT2_vals, SVLst_T_APARENT2_vals, paired=True, eftype='cohen'))\n",
    "print(\"n = \", len(SVLst_C_APARENT2_vals))\n"
   ]
  },
  {
   "cell_type": "code",
   "execution_count": null,
   "id": "3fa00f97-8b6f-4054-8437-baa3c57bb825",
   "metadata": {},
   "outputs": [],
   "source": []
  }
 ],
 "metadata": {
  "kernelspec": {
   "display_name": "Environment (conda_tensorflow2_p37)",
   "language": "python",
   "name": "conda_tensorflow2_p37"
  },
  "language_info": {
   "codemirror_mode": {
    "name": "ipython",
    "version": 3
   },
   "file_extension": ".py",
   "mimetype": "text/x-python",
   "name": "python",
   "nbconvert_exporter": "python",
   "pygments_lexer": "ipython3",
   "version": "3.7.10"
  }
 },
 "nbformat": 4,
 "nbformat_minor": 5
}
