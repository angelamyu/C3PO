{
 "cells": [
  {
   "cell_type": "code",
   "execution_count": 1,
   "id": "b0b2514d-bd0c-4b1d-a254-2de394cd9de2",
   "metadata": {},
   "outputs": [],
   "source": [
    "\"\"\"\n",
    "Example usage of C3PO. \n",
    "Author: Angela M Yu, Copyright 2023\n",
    "License: GPL-3.0 license\n",
    "\"\"\"\n",
    "\n",
    "import numpy as np\n",
    "import tensorflow as tf\n",
    "from tensorflow.keras.models import load_model\n",
    "\n",
    "\"\"\"\n",
    "Adapted from https://github.com/pjsample/human_5utr_modeling \n",
    "\"\"\"\n",
    "def one_hot_encode(sequences, max_seq_len=25, mask_val=-1, padding='left'):\n",
    "    # Dictionary returning one-hot encoding of nucleotides. \n",
    "    nuc_d = {'a':[1,0,0,0],\n",
    "             'c':[0,1,0,0],\n",
    "             'g':[0,0,1,0],\n",
    "             't':[0,0,0,1],\n",
    "             'n':[0,0,0,0],\n",
    "            'm':[mask_val,mask_val,mask_val,mask_val]}\n",
    "    \n",
    "    # Creat empty matrix\n",
    "    one_hot_seqs = np.ones([len(sequences), max_seq_len, 4])*mask_val\n",
    "    \n",
    "    # Iterate through sequences and one-hot encode\n",
    "    for i, seq in enumerate(sequences):\n",
    "        # Truncate\n",
    "        seq = seq[:max_seq_len].lower()\n",
    "        # Convert to array\n",
    "        one_hot_seq = np.array([nuc_d[x] for x in seq])\n",
    "        # Append to matrix\n",
    "        if padding=='left':\n",
    "            one_hot_seqs[i, :len(seq), :] = one_hot_seq\n",
    "        elif padding=='right':\n",
    "            one_hot_seqs[i, -len(seq):, :] = one_hot_seq\n",
    "        else:\n",
    "            ValueError(f'padding {padding} not recognized')\n",
    "            \n",
    "    return one_hot_seqs\n"
   ]
  },
  {
   "cell_type": "code",
   "execution_count": 2,
   "id": "8e554ec8-2272-44cb-946a-4d5d4dbf5005",
   "metadata": {},
   "outputs": [],
   "source": [
    "\"\"\"\n",
    "Define example sequences and convert into one-hot representation\n",
    "\"\"\"\n",
    "\n",
    "example_sequences = [\"GGCAAATGTTTTTATTTGTACACTC\", \"CAAGTTAACAACAACAATTGCATTC\", \"CAATGCCTACTAAATAAAAGATTTA\"]\n",
    "onehot_seqs = one_hot_encode(example_sequences)\n"
   ]
  },
  {
   "cell_type": "code",
   "execution_count": 3,
   "id": "ce0d05d1-70cb-4600-aaf7-3bb9f0788929",
   "metadata": {},
   "outputs": [
    {
     "name": "stdout",
     "output_type": "stream",
     "text": [
      "[2023-01-06 22:20:24.078 ip-172-31-11-19.us-west-1.compute.internal:26359 INFO utils.py:27] RULE_JOB_STOP_SIGNAL_FILENAME: None\n",
      "[2023-01-06 22:20:24.100 ip-172-31-11-19.us-west-1.compute.internal:26359 INFO profiler_config_parser.py:111] Unable to find config at /opt/ml/input/config/profilerconfig.json. Profiler is disabled.\n"
     ]
    }
   ],
   "source": [
    "\"\"\"\n",
    "Load C3PO model\n",
    "\"\"\"\n",
    "\n",
    "C3P0_model = load_model(\"C3PO.hdf5\")\n"
   ]
  },
  {
   "cell_type": "code",
   "execution_count": 4,
   "id": "c6c68e39-c6ab-44aa-96f9-a0c9b2338c75",
   "metadata": {},
   "outputs": [
    {
     "name": "stdout",
     "output_type": "stream",
     "text": [
      "Columns are predictions for Cmpd2 doses 0.5 μM, 2.5 μM, 12.5 μM, respectively\n",
      "Rows are each sequence, in the same order as input\n",
      "ratio_predictions = \n",
      " [[-0.02325627 -0.4374298  -0.722089  ]\n",
      " [ 0.06323956  0.16961205  0.34404048]\n",
      " [-0.18593498 -0.18253124 -0.15191878]]\n"
     ]
    }
   ],
   "source": [
    "\"\"\"\n",
    "Predict using C3PO\n",
    "\"\"\"\n",
    "\n",
    "ratio_predictions = C3P0_model.predict(onehot_seqs, workers=4, use_multiprocessing=True)\n",
    "print(\"Columns are predictions for Cmpd2 doses 0.5 μM, 2.5 μM, 12.5 μM, respectively\")\n",
    "print(\"Rows are each sequence, in the same order as input\")\n",
    "print(\"ratio_predictions = \\n\", ratio_predictions)\n"
   ]
  },
  {
   "cell_type": "code",
   "execution_count": null,
   "id": "993281ba-b987-4773-9fa6-880c6fbebaa5",
   "metadata": {},
   "outputs": [],
   "source": []
  }
 ],
 "metadata": {
  "kernelspec": {
   "display_name": "Environment (conda_tensorflow2_p37)",
   "language": "python",
   "name": "conda_tensorflow2_p37"
  },
  "language_info": {
   "codemirror_mode": {
    "name": "ipython",
    "version": 3
   },
   "file_extension": ".py",
   "mimetype": "text/x-python",
   "name": "python",
   "nbconvert_exporter": "python",
   "pygments_lexer": "ipython3",
   "version": "3.7.10"
  }
 },
 "nbformat": 4,
 "nbformat_minor": 5
}
